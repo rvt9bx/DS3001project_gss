{
 "cells": [
  {
   "cell_type": "code",
   "execution_count": 94,
   "metadata": {
    "id": "k7edk0QDM5gI",
    "tags": []
   },
   "outputs": [],
   "source": [
    "import numpy as np\n",
    "import pandas as pd"
   ]
  },
  {
   "cell_type": "markdown",
   "metadata": {},
   "source": [
    "## Load Data"
   ]
  },
  {
   "cell_type": "code",
   "execution_count": 100,
   "metadata": {
    "colab": {
     "base_uri": "https://localhost:8080/"
    },
    "id": "TupwilS8kcXb",
    "outputId": "07faf61e-1051-4e9b-a6ff-7be96d5538ba",
    "tags": []
   },
   "outputs": [
    {
     "name": "stdout",
     "output_type": "stream",
     "text": [
      "https://github.com/DS3001/project_gss/raw/main/gss_chunk_1.parquet\n",
      "https://github.com/DS3001/project_gss/raw/main/gss_chunk_2.parquet\n",
      "https://github.com/DS3001/project_gss/raw/main/gss_chunk_3.parquet\n"
     ]
    }
   ],
   "source": [
    "# load data\n",
    "var_list = ['id',\n",
    "            'age',\n",
    "            'sex',\n",
    "            'educ',\n",
    "            'marital',\n",
    "            'childs',\n",
    "            'wrkstat',\n",
    "            'income',\n",
    "            'incom16', # family income while growing up\n",
    "            'partyid',\n",
    "            'relig',\n",
    "            'fund', # fundamentalism/ liberalism of respondents religion\n",
    "            'reliten',\n",
    "            'courts',\n",
    "            'cappun'\n",
    "] # List of variables you want to save\n",
    "#\n",
    "output_filename = 'selected_gss_data.csv' # Name of the file you want to save the data to\n",
    "#\n",
    "modes = ['w','a'] # Has write mode and append mode\n",
    "phase = 0 # Starts in write mode; after one iteration of loop, switches to append mode\n",
    "#\n",
    "col_names = []\n",
    "#\n",
    "for k in range(3): # for each chunk of the data\n",
    "    url = 'https://github.com/DS3001/project_gss/raw/main/gss_chunk_' + str(1+k) + '.parquet' # Create url to the chunk to be processed\n",
    "    print(url) # Check the url is correct\n",
    "    df = pd.read_parquet(url) # Download this chunk of data\n",
    "    # print(df.head()) # Visually inspect the first few rows\n",
    "    global col_names\n",
    "    col_names = df.columns\n",
    "    df.loc[:,var_list].to_csv(output_filename, # specifies target file to save the chunk to\n",
    "                              mode=modes[phase], # control write versus append\n",
    "                              header=var_list, # variable names\n",
    "                              index=False) # no row index saved\n",
    "    phase = 1 # Switch from write mode to append mode"
   ]
  },
  {
   "cell_type": "code",
   "execution_count": 101,
   "metadata": {
    "id": "hWsZ08pwsKmT",
    "tags": []
   },
   "outputs": [],
   "source": [
    "# df = pd.read_csv(\"/content/selected_gss_data.csv\", low_memory=False) # colab line\n",
    "df = pd.read_csv(\"selected_gss_data.csv\", low_memory=False) # rivanna line"
   ]
  },
  {
   "cell_type": "markdown",
   "metadata": {},
   "source": [
    "## Intial Exploration"
   ]
  },
  {
   "cell_type": "code",
   "execution_count": 102,
   "metadata": {
    "colab": {
     "base_uri": "https://localhost:8080/",
     "height": 487
    },
    "id": "ae78RXzJsRu4",
    "outputId": "b76abdec-982c-49d8-fe98-0fe775b4148f",
    "tags": []
   },
   "outputs": [
    {
     "data": {
      "text/html": [
       "<div>\n",
       "<style scoped>\n",
       "    .dataframe tbody tr th:only-of-type {\n",
       "        vertical-align: middle;\n",
       "    }\n",
       "\n",
       "    .dataframe tbody tr th {\n",
       "        vertical-align: top;\n",
       "    }\n",
       "\n",
       "    .dataframe thead th {\n",
       "        text-align: right;\n",
       "    }\n",
       "</style>\n",
       "<table border=\"1\" class=\"dataframe\">\n",
       "  <thead>\n",
       "    <tr style=\"text-align: right;\">\n",
       "      <th></th>\n",
       "      <th>id</th>\n",
       "      <th>age</th>\n",
       "      <th>sex</th>\n",
       "      <th>educ</th>\n",
       "      <th>marital</th>\n",
       "      <th>childs</th>\n",
       "      <th>wrkstat</th>\n",
       "      <th>income</th>\n",
       "      <th>incom16</th>\n",
       "      <th>partyid</th>\n",
       "      <th>relig</th>\n",
       "      <th>fund</th>\n",
       "      <th>reliten</th>\n",
       "      <th>courts</th>\n",
       "      <th>cappun</th>\n",
       "    </tr>\n",
       "  </thead>\n",
       "  <tbody>\n",
       "    <tr>\n",
       "      <th>0</th>\n",
       "      <td>1</td>\n",
       "      <td>23.0</td>\n",
       "      <td>female</td>\n",
       "      <td>16.0</td>\n",
       "      <td>never married</td>\n",
       "      <td>0.0</td>\n",
       "      <td>working full time</td>\n",
       "      <td>NaN</td>\n",
       "      <td>average</td>\n",
       "      <td>independent, close to democrat</td>\n",
       "      <td>jewish</td>\n",
       "      <td>liberal</td>\n",
       "      <td>NaN</td>\n",
       "      <td>about right</td>\n",
       "      <td>NaN</td>\n",
       "    </tr>\n",
       "    <tr>\n",
       "      <th>1</th>\n",
       "      <td>2</td>\n",
       "      <td>70.0</td>\n",
       "      <td>male</td>\n",
       "      <td>10.0</td>\n",
       "      <td>married</td>\n",
       "      <td>5.0</td>\n",
       "      <td>retired</td>\n",
       "      <td>NaN</td>\n",
       "      <td>above average</td>\n",
       "      <td>not very strong democrat</td>\n",
       "      <td>catholic</td>\n",
       "      <td>moderate</td>\n",
       "      <td>NaN</td>\n",
       "      <td>not harshly enough</td>\n",
       "      <td>NaN</td>\n",
       "    </tr>\n",
       "    <tr>\n",
       "      <th>2</th>\n",
       "      <td>3</td>\n",
       "      <td>48.0</td>\n",
       "      <td>female</td>\n",
       "      <td>12.0</td>\n",
       "      <td>married</td>\n",
       "      <td>4.0</td>\n",
       "      <td>working part time</td>\n",
       "      <td>NaN</td>\n",
       "      <td>average</td>\n",
       "      <td>independent (neither, no response)</td>\n",
       "      <td>protestant</td>\n",
       "      <td>moderate</td>\n",
       "      <td>NaN</td>\n",
       "      <td>not harshly enough</td>\n",
       "      <td>NaN</td>\n",
       "    </tr>\n",
       "    <tr>\n",
       "      <th>3</th>\n",
       "      <td>4</td>\n",
       "      <td>27.0</td>\n",
       "      <td>female</td>\n",
       "      <td>17.0</td>\n",
       "      <td>married</td>\n",
       "      <td>0.0</td>\n",
       "      <td>working full time</td>\n",
       "      <td>NaN</td>\n",
       "      <td>average</td>\n",
       "      <td>not very strong democrat</td>\n",
       "      <td>other</td>\n",
       "      <td>NaN</td>\n",
       "      <td>NaN</td>\n",
       "      <td>about right</td>\n",
       "      <td>NaN</td>\n",
       "    </tr>\n",
       "    <tr>\n",
       "      <th>4</th>\n",
       "      <td>5</td>\n",
       "      <td>61.0</td>\n",
       "      <td>female</td>\n",
       "      <td>12.0</td>\n",
       "      <td>married</td>\n",
       "      <td>2.0</td>\n",
       "      <td>keeping house</td>\n",
       "      <td>NaN</td>\n",
       "      <td>below average</td>\n",
       "      <td>strong democrat</td>\n",
       "      <td>protestant</td>\n",
       "      <td>moderate</td>\n",
       "      <td>NaN</td>\n",
       "      <td>not harshly enough</td>\n",
       "      <td>NaN</td>\n",
       "    </tr>\n",
       "  </tbody>\n",
       "</table>\n",
       "</div>"
      ],
      "text/plain": [
       "  id   age     sex  educ        marital childs            wrkstat income  \\\n",
       "0  1  23.0  female  16.0  never married    0.0  working full time    NaN   \n",
       "1  2  70.0    male  10.0        married    5.0            retired    NaN   \n",
       "2  3  48.0  female  12.0        married    4.0  working part time    NaN   \n",
       "3  4  27.0  female  17.0        married    0.0  working full time    NaN   \n",
       "4  5  61.0  female  12.0        married    2.0      keeping house    NaN   \n",
       "\n",
       "         incom16                             partyid       relig      fund  \\\n",
       "0        average      independent, close to democrat      jewish   liberal   \n",
       "1  above average            not very strong democrat    catholic  moderate   \n",
       "2        average  independent (neither, no response)  protestant  moderate   \n",
       "3        average            not very strong democrat       other       NaN   \n",
       "4  below average                     strong democrat  protestant  moderate   \n",
       "\n",
       "  reliten              courts cappun  \n",
       "0     NaN         about right    NaN  \n",
       "1     NaN  not harshly enough    NaN  \n",
       "2     NaN  not harshly enough    NaN  \n",
       "3     NaN         about right    NaN  \n",
       "4     NaN  not harshly enough    NaN  "
      ]
     },
     "execution_count": 102,
     "metadata": {},
     "output_type": "execute_result"
    }
   ],
   "source": [
    "df.head()"
   ]
  },
  {
   "cell_type": "code",
   "execution_count": 103,
   "metadata": {
    "tags": []
   },
   "outputs": [
    {
     "data": {
      "text/plain": [
       "id         object\n",
       "age        object\n",
       "sex        object\n",
       "educ       object\n",
       "marital    object\n",
       "childs     object\n",
       "wrkstat    object\n",
       "income     object\n",
       "incom16    object\n",
       "partyid    object\n",
       "relig      object\n",
       "fund       object\n",
       "reliten    object\n",
       "courts     object\n",
       "cappun     object\n",
       "dtype: object"
      ]
     },
     "execution_count": 103,
     "metadata": {},
     "output_type": "execute_result"
    }
   ],
   "source": [
    "df.dtypes"
   ]
  },
  {
   "cell_type": "markdown",
   "metadata": {},
   "source": [
    "The code below is to see if there are any exact duplicate rows, it turns out there are 2 that are just the column headers, probably from the way we imported the 3 chunks of data. I will drop both of these. "
   ]
  },
  {
   "cell_type": "code",
   "execution_count": 104,
   "metadata": {
    "tags": []
   },
   "outputs": [
    {
     "data": {
      "text/html": [
       "<div>\n",
       "<style scoped>\n",
       "    .dataframe tbody tr th:only-of-type {\n",
       "        vertical-align: middle;\n",
       "    }\n",
       "\n",
       "    .dataframe tbody tr th {\n",
       "        vertical-align: top;\n",
       "    }\n",
       "\n",
       "    .dataframe thead th {\n",
       "        text-align: right;\n",
       "    }\n",
       "</style>\n",
       "<table border=\"1\" class=\"dataframe\">\n",
       "  <thead>\n",
       "    <tr style=\"text-align: right;\">\n",
       "      <th></th>\n",
       "      <th>id</th>\n",
       "      <th>age</th>\n",
       "      <th>sex</th>\n",
       "      <th>educ</th>\n",
       "      <th>marital</th>\n",
       "      <th>childs</th>\n",
       "      <th>wrkstat</th>\n",
       "      <th>income</th>\n",
       "      <th>incom16</th>\n",
       "      <th>partyid</th>\n",
       "      <th>relig</th>\n",
       "      <th>fund</th>\n",
       "      <th>reliten</th>\n",
       "      <th>courts</th>\n",
       "      <th>cappun</th>\n",
       "    </tr>\n",
       "  </thead>\n",
       "  <tbody>\n",
       "    <tr>\n",
       "      <th>24130</th>\n",
       "      <td>id</td>\n",
       "      <td>age</td>\n",
       "      <td>sex</td>\n",
       "      <td>educ</td>\n",
       "      <td>marital</td>\n",
       "      <td>childs</td>\n",
       "      <td>wrkstat</td>\n",
       "      <td>income</td>\n",
       "      <td>incom16</td>\n",
       "      <td>partyid</td>\n",
       "      <td>relig</td>\n",
       "      <td>fund</td>\n",
       "      <td>reliten</td>\n",
       "      <td>courts</td>\n",
       "      <td>cappun</td>\n",
       "    </tr>\n",
       "    <tr>\n",
       "      <th>48261</th>\n",
       "      <td>id</td>\n",
       "      <td>age</td>\n",
       "      <td>sex</td>\n",
       "      <td>educ</td>\n",
       "      <td>marital</td>\n",
       "      <td>childs</td>\n",
       "      <td>wrkstat</td>\n",
       "      <td>income</td>\n",
       "      <td>incom16</td>\n",
       "      <td>partyid</td>\n",
       "      <td>relig</td>\n",
       "      <td>fund</td>\n",
       "      <td>reliten</td>\n",
       "      <td>courts</td>\n",
       "      <td>cappun</td>\n",
       "    </tr>\n",
       "  </tbody>\n",
       "</table>\n",
       "</div>"
      ],
      "text/plain": [
       "       id  age  sex  educ  marital  childs  wrkstat  income  incom16  partyid  \\\n",
       "24130  id  age  sex  educ  marital  childs  wrkstat  income  incom16  partyid   \n",
       "48261  id  age  sex  educ  marital  childs  wrkstat  income  incom16  partyid   \n",
       "\n",
       "       relig  fund  reliten  courts  cappun  \n",
       "24130  relig  fund  reliten  courts  cappun  \n",
       "48261  relig  fund  reliten  courts  cappun  "
      ]
     },
     "execution_count": 104,
     "metadata": {},
     "output_type": "execute_result"
    }
   ],
   "source": [
    "# find duplicate rows\n",
    "dup_mask = df.duplicated(keep=False)\n",
    "dup_rows = df[dup_mask]\n",
    "\n",
    "dup_rows"
   ]
  },
  {
   "cell_type": "code",
   "execution_count": 106,
   "metadata": {
    "tags": []
   },
   "outputs": [],
   "source": [
    "# drop duplicate rows \n",
    "df = df.drop_duplicates(keep=False)"
   ]
  },
  {
   "cell_type": "code",
   "execution_count": 107,
   "metadata": {
    "colab": {
     "base_uri": "https://localhost:8080/"
    },
    "id": "_SBwQmYCxAFZ",
    "outputId": "7f4c9ad7-1a68-4cdd-b23f-be1f84a76ade",
    "tags": []
   },
   "outputs": [
    {
     "data": {
      "text/plain": [
       "(72390, 15)"
      ]
     },
     "execution_count": 107,
     "metadata": {},
     "output_type": "execute_result"
    }
   ],
   "source": [
    "df.shape"
   ]
  },
  {
   "cell_type": "code",
   "execution_count": 108,
   "metadata": {
    "tags": []
   },
   "outputs": [
    {
     "name": "stdout",
     "output_type": "stream",
     "text": [
      "id: 0\n",
      "age: 769\n",
      "sex: 112\n",
      "educ: 263\n",
      "marital: 51\n",
      "childs: 261\n",
      "wrkstat: 36\n",
      "income: 8951\n",
      "incom16: 13741\n",
      "partyid: 485\n",
      "relig: 437\n",
      "fund: 5333\n",
      "reliten: 11304\n",
      "courts: 16279\n",
      "cappun: 11543\n"
     ]
    }
   ],
   "source": [
    "for each in df.columns:\n",
    "    print(f\"{each}: {df[each].isnull().sum()}\")"
   ]
  },
  {
   "cell_type": "markdown",
   "metadata": {},
   "source": [
    "## Clean CAPPUN Variable "
   ]
  },
  {
   "cell_type": "markdown",
   "metadata": {},
   "source": [
    "Choices made: encode \"nan\" as new category \"no response\""
   ]
  },
  {
   "cell_type": "code",
   "execution_count": 109,
   "metadata": {
    "colab": {
     "base_uri": "https://localhost:8080/"
    },
    "id": "ta-UrXACw4sN",
    "outputId": "6aaacccb-df9d-4869-fd81-29ea46ee389f",
    "tags": []
   },
   "outputs": [
    {
     "data": {
      "text/plain": [
       "cappun\n",
       "favor     42181\n",
       "oppose    18666\n",
       "Name: count, dtype: int64"
      ]
     },
     "execution_count": 109,
     "metadata": {},
     "output_type": "execute_result"
    }
   ],
   "source": [
    "df['cappun'].value_counts()"
   ]
  },
  {
   "cell_type": "code",
   "execution_count": 110,
   "metadata": {
    "tags": []
   },
   "outputs": [],
   "source": [
    "df['cappun'] = df['cappun'].replace(np.nan, 'no response')"
   ]
  },
  {
   "cell_type": "code",
   "execution_count": 111,
   "metadata": {
    "tags": []
   },
   "outputs": [
    {
     "data": {
      "text/plain": [
       "cappun\n",
       "favor          42181\n",
       "oppose         18666\n",
       "no response    11543\n",
       "Name: count, dtype: int64"
      ]
     },
     "execution_count": 111,
     "metadata": {},
     "output_type": "execute_result"
    }
   ],
   "source": [
    "df['cappun'].value_counts()"
   ]
  },
  {
   "cell_type": "markdown",
   "metadata": {},
   "source": [
    "## Clean COURTS variable"
   ]
  },
  {
   "cell_type": "markdown",
   "metadata": {},
   "source": [
    "Choices made: encode \"nan\" as new category \"no response\""
   ]
  },
  {
   "cell_type": "code",
   "execution_count": 112,
   "metadata": {
    "tags": []
   },
   "outputs": [
    {
     "data": {
      "text/plain": [
       "courts\n",
       "not harshly enough    43636\n",
       "about right            7906\n",
       "too harshly            4569\n",
       "Name: count, dtype: int64"
      ]
     },
     "execution_count": 112,
     "metadata": {},
     "output_type": "execute_result"
    }
   ],
   "source": [
    "df['courts'].value_counts()"
   ]
  },
  {
   "cell_type": "code",
   "execution_count": 113,
   "metadata": {
    "tags": []
   },
   "outputs": [],
   "source": [
    "df['courts'] = df['courts'].replace(np.nan, 'no response')"
   ]
  },
  {
   "cell_type": "code",
   "execution_count": 114,
   "metadata": {
    "tags": []
   },
   "outputs": [
    {
     "data": {
      "text/plain": [
       "courts\n",
       "not harshly enough    43636\n",
       "no response           16279\n",
       "about right            7906\n",
       "too harshly            4569\n",
       "Name: count, dtype: int64"
      ]
     },
     "execution_count": 114,
     "metadata": {},
     "output_type": "execute_result"
    }
   ],
   "source": [
    "df['courts'].value_counts()"
   ]
  },
  {
   "cell_type": "markdown",
   "metadata": {},
   "source": [
    "## Clean INCOME variables "
   ]
  },
  {
   "cell_type": "markdown",
   "metadata": {},
   "source": [
    "income = total family income last year before taxes <br>\n",
    "incom16 = family income while growing up "
   ]
  },
  {
   "cell_type": "markdown",
   "metadata": {},
   "source": [
    "Choices made: for incom16, encode \"nan\" as new category \"no response\""
   ]
  },
  {
   "cell_type": "code",
   "execution_count": 115,
   "metadata": {
    "tags": []
   },
   "outputs": [
    {
     "data": {
      "text/plain": [
       "incom16\n",
       "average                 28368\n",
       "below average           14732\n",
       "above average            9069\n",
       "far below average        5334\n",
       "far above average        1136\n",
       "lived in institution       10\n",
       "Name: count, dtype: int64"
      ]
     },
     "execution_count": 115,
     "metadata": {},
     "output_type": "execute_result"
    }
   ],
   "source": [
    "df['incom16'].value_counts()"
   ]
  },
  {
   "cell_type": "code",
   "execution_count": 116,
   "metadata": {
    "tags": []
   },
   "outputs": [],
   "source": [
    "df['incom16'] = df['incom16'].replace(np.nan, 'no response')"
   ]
  },
  {
   "cell_type": "code",
   "execution_count": 117,
   "metadata": {
    "tags": []
   },
   "outputs": [
    {
     "data": {
      "text/plain": [
       "incom16\n",
       "average                 28368\n",
       "below average           14732\n",
       "no response             13741\n",
       "above average            9069\n",
       "far below average        5334\n",
       "far above average        1136\n",
       "lived in institution       10\n",
       "Name: count, dtype: int64"
      ]
     },
     "execution_count": 117,
     "metadata": {},
     "output_type": "execute_result"
    }
   ],
   "source": [
    "df['incom16'].value_counts()"
   ]
  },
  {
   "cell_type": "code",
   "execution_count": 118,
   "metadata": {
    "tags": []
   },
   "outputs": [
    {
     "data": {
      "text/plain": [
       "income\n",
       "$25,000 or more       34785\n",
       "$10,000 to $14,999     6850\n",
       "$20,000 to $24,999     5528\n",
       "$15,000 to $19,999     5301\n",
       "$8,000 to $9,999       2285\n",
       "$1,000 to $2,999       1412\n",
       "$7,000 to $7,999       1315\n",
       "$5,000 to $5,999       1314\n",
       "$3,000 to $3,999       1309\n",
       "$6,000 to $6,999       1249\n",
       "$4,000 to $4,999       1189\n",
       "under $1,000            902\n",
       "Name: count, dtype: int64"
      ]
     },
     "execution_count": 118,
     "metadata": {},
     "output_type": "execute_result"
    }
   ],
   "source": [
    "df['income'].value_counts()"
   ]
  },
  {
   "cell_type": "code",
   "execution_count": 119,
   "metadata": {
    "tags": []
   },
   "outputs": [],
   "source": [
    "df['income'] = df['income'].replace(np.nan, 'no response')"
   ]
  },
  {
   "cell_type": "code",
   "execution_count": 120,
   "metadata": {
    "tags": []
   },
   "outputs": [
    {
     "data": {
      "text/plain": [
       "income\n",
       "$25,000 or more       34785\n",
       "no response            8951\n",
       "$10,000 to $14,999     6850\n",
       "$20,000 to $24,999     5528\n",
       "$15,000 to $19,999     5301\n",
       "$8,000 to $9,999       2285\n",
       "$1,000 to $2,999       1412\n",
       "$7,000 to $7,999       1315\n",
       "$5,000 to $5,999       1314\n",
       "$3,000 to $3,999       1309\n",
       "$6,000 to $6,999       1249\n",
       "$4,000 to $4,999       1189\n",
       "under $1,000            902\n",
       "Name: count, dtype: int64"
      ]
     },
     "execution_count": 120,
     "metadata": {},
     "output_type": "execute_result"
    }
   ],
   "source": [
    "df['income'].value_counts()"
   ]
  }
 ],
 "metadata": {
  "colab": {
   "authorship_tag": "ABX9TyP2VvotT4iXaecY/i208eNH",
   "provenance": []
  },
  "kernelspec": {
   "display_name": "Python 3 (ipykernel)",
   "language": "python",
   "name": "python3"
  },
  "language_info": {
   "codemirror_mode": {
    "name": "ipython",
    "version": 3
   },
   "file_extension": ".py",
   "mimetype": "text/x-python",
   "name": "python",
   "nbconvert_exporter": "python",
   "pygments_lexer": "ipython3",
   "version": "3.11.4"
  }
 },
 "nbformat": 4,
 "nbformat_minor": 4
}
