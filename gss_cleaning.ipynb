{
 "cells": [
  {
   "cell_type": "code",
   "execution_count": 1,
   "metadata": {
    "id": "k7edk0QDM5gI",
    "tags": []
   },
   "outputs": [],
   "source": [
    "import numpy as np\n",
    "import pandas as pd"
   ]
  },
  {
   "cell_type": "markdown",
   "metadata": {},
   "source": [
    "## Load Data"
   ]
  },
  {
   "cell_type": "code",
   "execution_count": 2,
   "metadata": {
    "colab": {
     "base_uri": "https://localhost:8080/"
    },
    "id": "TupwilS8kcXb",
    "outputId": "07faf61e-1051-4e9b-a6ff-7be96d5538ba",
    "tags": []
   },
   "outputs": [
    {
     "name": "stdout",
     "output_type": "stream",
     "text": [
      "https://github.com/DS3001/project_gss/raw/main/gss_chunk_1.parquet\n",
      "https://github.com/DS3001/project_gss/raw/main/gss_chunk_2.parquet\n",
      "https://github.com/DS3001/project_gss/raw/main/gss_chunk_3.parquet\n"
     ]
    }
   ],
   "source": [
    "# load data\n",
    "var_list = ['id',\n",
    "            'age',\n",
    "            'sex',\n",
    "            'educ',\n",
    "            'marital',\n",
    "            'childs',\n",
    "            'wrkstat',\n",
    "            'income',\n",
    "            'incom16', # family income while growing up\n",
    "            'partyid',\n",
    "            'relig',\n",
    "            'fund', # fundamentalism/ liberalism of respondents religion\n",
    "            'reliten',\n",
    "            'courts',\n",
    "            'cappun'\n",
    "] # List of variables you want to save\n",
    "#\n",
    "output_filename = 'selected_gss_data.csv' # Name of the file you want to save the data to\n",
    "#\n",
    "modes = ['w','a'] # Has write mode and append mode\n",
    "phase = 0 # Starts in write mode; after one iteration of loop, switches to append mode\n",
    "#\n",
    "col_names = []\n",
    "#\n",
    "for k in range(3): # for each chunk of the data\n",
    "    url = 'https://github.com/DS3001/project_gss/raw/main/gss_chunk_' + str(1+k) + '.parquet' # Create url to the chunk to be processed\n",
    "    print(url) # Check the url is correct\n",
    "    df = pd.read_parquet(url) # Download this chunk of data\n",
    "    # print(df.head()) # Visually inspect the first few rows\n",
    "    global col_names\n",
    "    col_names = df.columns\n",
    "    df.loc[:,var_list].to_csv(output_filename, # specifies target file to save the chunk to\n",
    "                              mode=modes[phase], # control write versus append\n",
    "                              header=var_list, # variable names\n",
    "                              index=False) # no row index saved\n",
    "    phase = 1 # Switch from write mode to append mode"
   ]
  },
  {
   "cell_type": "code",
   "execution_count": 3,
   "metadata": {
    "id": "hWsZ08pwsKmT",
    "tags": []
   },
   "outputs": [],
   "source": [
    "# df = pd.read_csv(\"/content/selected_gss_data.csv\", low_memory=False) # colab line\n",
    "df = pd.read_csv(\"selected_gss_data.csv\", low_memory=False) # rivanna line"
   ]
  },
  {
   "cell_type": "markdown",
   "metadata": {},
   "source": [
    "## Intial Exploration"
   ]
  },
  {
   "cell_type": "code",
   "execution_count": 113,
   "metadata": {
    "colab": {
     "base_uri": "https://localhost:8080/",
     "height": 487
    },
    "id": "ae78RXzJsRu4",
    "outputId": "b76abdec-982c-49d8-fe98-0fe775b4148f",
    "tags": []
   },
   "outputs": [
    {
     "data": {
      "text/html": [
       "<div>\n",
       "<style scoped>\n",
       "    .dataframe tbody tr th:only-of-type {\n",
       "        vertical-align: middle;\n",
       "    }\n",
       "\n",
       "    .dataframe tbody tr th {\n",
       "        vertical-align: top;\n",
       "    }\n",
       "\n",
       "    .dataframe thead th {\n",
       "        text-align: right;\n",
       "    }\n",
       "</style>\n",
       "<table border=\"1\" class=\"dataframe\">\n",
       "  <thead>\n",
       "    <tr style=\"text-align: right;\">\n",
       "      <th></th>\n",
       "      <th>id</th>\n",
       "      <th>age</th>\n",
       "      <th>sex</th>\n",
       "      <th>educ</th>\n",
       "      <th>marital</th>\n",
       "      <th>childs</th>\n",
       "      <th>wrkstat</th>\n",
       "      <th>income</th>\n",
       "      <th>incom16</th>\n",
       "      <th>partyid</th>\n",
       "      <th>relig</th>\n",
       "      <th>fund</th>\n",
       "      <th>reliten</th>\n",
       "      <th>courts</th>\n",
       "      <th>cappun</th>\n",
       "    </tr>\n",
       "  </thead>\n",
       "  <tbody>\n",
       "    <tr>\n",
       "      <th>0</th>\n",
       "      <td>1</td>\n",
       "      <td>23.0</td>\n",
       "      <td>female</td>\n",
       "      <td>16.0</td>\n",
       "      <td>never married</td>\n",
       "      <td>0.0</td>\n",
       "      <td>working full time</td>\n",
       "      <td>NaN</td>\n",
       "      <td>average</td>\n",
       "      <td>independent, close to democrat</td>\n",
       "      <td>jewish</td>\n",
       "      <td>liberal</td>\n",
       "      <td>NaN</td>\n",
       "      <td>about right</td>\n",
       "      <td>NaN</td>\n",
       "    </tr>\n",
       "    <tr>\n",
       "      <th>1</th>\n",
       "      <td>2</td>\n",
       "      <td>70.0</td>\n",
       "      <td>male</td>\n",
       "      <td>10.0</td>\n",
       "      <td>married</td>\n",
       "      <td>5.0</td>\n",
       "      <td>retired</td>\n",
       "      <td>NaN</td>\n",
       "      <td>above average</td>\n",
       "      <td>not very strong democrat</td>\n",
       "      <td>catholic</td>\n",
       "      <td>moderate</td>\n",
       "      <td>NaN</td>\n",
       "      <td>not harshly enough</td>\n",
       "      <td>NaN</td>\n",
       "    </tr>\n",
       "    <tr>\n",
       "      <th>2</th>\n",
       "      <td>3</td>\n",
       "      <td>48.0</td>\n",
       "      <td>female</td>\n",
       "      <td>12.0</td>\n",
       "      <td>married</td>\n",
       "      <td>4.0</td>\n",
       "      <td>working part time</td>\n",
       "      <td>NaN</td>\n",
       "      <td>average</td>\n",
       "      <td>independent (neither, no response)</td>\n",
       "      <td>protestant</td>\n",
       "      <td>moderate</td>\n",
       "      <td>NaN</td>\n",
       "      <td>not harshly enough</td>\n",
       "      <td>NaN</td>\n",
       "    </tr>\n",
       "    <tr>\n",
       "      <th>3</th>\n",
       "      <td>4</td>\n",
       "      <td>27.0</td>\n",
       "      <td>female</td>\n",
       "      <td>17.0</td>\n",
       "      <td>married</td>\n",
       "      <td>0.0</td>\n",
       "      <td>working full time</td>\n",
       "      <td>NaN</td>\n",
       "      <td>average</td>\n",
       "      <td>not very strong democrat</td>\n",
       "      <td>other</td>\n",
       "      <td>NaN</td>\n",
       "      <td>NaN</td>\n",
       "      <td>about right</td>\n",
       "      <td>NaN</td>\n",
       "    </tr>\n",
       "    <tr>\n",
       "      <th>4</th>\n",
       "      <td>5</td>\n",
       "      <td>61.0</td>\n",
       "      <td>female</td>\n",
       "      <td>12.0</td>\n",
       "      <td>married</td>\n",
       "      <td>2.0</td>\n",
       "      <td>keeping house</td>\n",
       "      <td>NaN</td>\n",
       "      <td>below average</td>\n",
       "      <td>strong democrat</td>\n",
       "      <td>protestant</td>\n",
       "      <td>moderate</td>\n",
       "      <td>NaN</td>\n",
       "      <td>not harshly enough</td>\n",
       "      <td>NaN</td>\n",
       "    </tr>\n",
       "  </tbody>\n",
       "</table>\n",
       "</div>"
      ],
      "text/plain": [
       "  id   age     sex  educ        marital childs            wrkstat income  \\\n",
       "0  1  23.0  female  16.0  never married    0.0  working full time    NaN   \n",
       "1  2  70.0    male  10.0        married    5.0            retired    NaN   \n",
       "2  3  48.0  female  12.0        married    4.0  working part time    NaN   \n",
       "3  4  27.0  female  17.0        married    0.0  working full time    NaN   \n",
       "4  5  61.0  female  12.0        married    2.0      keeping house    NaN   \n",
       "\n",
       "         incom16                             partyid       relig      fund  \\\n",
       "0        average      independent, close to democrat      jewish   liberal   \n",
       "1  above average            not very strong democrat    catholic  moderate   \n",
       "2        average  independent (neither, no response)  protestant  moderate   \n",
       "3        average            not very strong democrat       other       NaN   \n",
       "4  below average                     strong democrat  protestant  moderate   \n",
       "\n",
       "  reliten              courts cappun  \n",
       "0     NaN         about right    NaN  \n",
       "1     NaN  not harshly enough    NaN  \n",
       "2     NaN  not harshly enough    NaN  \n",
       "3     NaN         about right    NaN  \n",
       "4     NaN  not harshly enough    NaN  "
      ]
     },
     "execution_count": 113,
     "metadata": {},
     "output_type": "execute_result"
    }
   ],
   "source": [
    "df.head()"
   ]
  },
  {
   "cell_type": "code",
   "execution_count": 5,
   "metadata": {
    "tags": []
   },
   "outputs": [
    {
     "data": {
      "text/plain": [
       "id         object\n",
       "age        object\n",
       "sex        object\n",
       "educ       object\n",
       "marital    object\n",
       "childs     object\n",
       "wrkstat    object\n",
       "income     object\n",
       "incom16    object\n",
       "partyid    object\n",
       "relig      object\n",
       "fund       object\n",
       "reliten    object\n",
       "courts     object\n",
       "cappun     object\n",
       "dtype: object"
      ]
     },
     "execution_count": 5,
     "metadata": {},
     "output_type": "execute_result"
    }
   ],
   "source": [
    "df.dtypes"
   ]
  },
  {
   "cell_type": "markdown",
   "metadata": {},
   "source": [
    "The code below is to see if there are any exact duplicate rows, it turns out there are 2 that are just the column headers, probably from the way we imported the 3 chunks of data. I will drop both of these. "
   ]
  },
  {
   "cell_type": "code",
   "execution_count": 4,
   "metadata": {
    "tags": []
   },
   "outputs": [
    {
     "data": {
      "text/html": [
       "<div>\n",
       "<style scoped>\n",
       "    .dataframe tbody tr th:only-of-type {\n",
       "        vertical-align: middle;\n",
       "    }\n",
       "\n",
       "    .dataframe tbody tr th {\n",
       "        vertical-align: top;\n",
       "    }\n",
       "\n",
       "    .dataframe thead th {\n",
       "        text-align: right;\n",
       "    }\n",
       "</style>\n",
       "<table border=\"1\" class=\"dataframe\">\n",
       "  <thead>\n",
       "    <tr style=\"text-align: right;\">\n",
       "      <th></th>\n",
       "      <th>id</th>\n",
       "      <th>age</th>\n",
       "      <th>sex</th>\n",
       "      <th>educ</th>\n",
       "      <th>marital</th>\n",
       "      <th>childs</th>\n",
       "      <th>wrkstat</th>\n",
       "      <th>income</th>\n",
       "      <th>incom16</th>\n",
       "      <th>partyid</th>\n",
       "      <th>relig</th>\n",
       "      <th>fund</th>\n",
       "      <th>reliten</th>\n",
       "      <th>courts</th>\n",
       "      <th>cappun</th>\n",
       "    </tr>\n",
       "  </thead>\n",
       "  <tbody>\n",
       "    <tr>\n",
       "      <th>24130</th>\n",
       "      <td>id</td>\n",
       "      <td>age</td>\n",
       "      <td>sex</td>\n",
       "      <td>educ</td>\n",
       "      <td>marital</td>\n",
       "      <td>childs</td>\n",
       "      <td>wrkstat</td>\n",
       "      <td>income</td>\n",
       "      <td>incom16</td>\n",
       "      <td>partyid</td>\n",
       "      <td>relig</td>\n",
       "      <td>fund</td>\n",
       "      <td>reliten</td>\n",
       "      <td>courts</td>\n",
       "      <td>cappun</td>\n",
       "    </tr>\n",
       "    <tr>\n",
       "      <th>48261</th>\n",
       "      <td>id</td>\n",
       "      <td>age</td>\n",
       "      <td>sex</td>\n",
       "      <td>educ</td>\n",
       "      <td>marital</td>\n",
       "      <td>childs</td>\n",
       "      <td>wrkstat</td>\n",
       "      <td>income</td>\n",
       "      <td>incom16</td>\n",
       "      <td>partyid</td>\n",
       "      <td>relig</td>\n",
       "      <td>fund</td>\n",
       "      <td>reliten</td>\n",
       "      <td>courts</td>\n",
       "      <td>cappun</td>\n",
       "    </tr>\n",
       "  </tbody>\n",
       "</table>\n",
       "</div>"
      ],
      "text/plain": [
       "       id  age  sex  educ  marital  childs  wrkstat  income  incom16  partyid  \\\n",
       "24130  id  age  sex  educ  marital  childs  wrkstat  income  incom16  partyid   \n",
       "48261  id  age  sex  educ  marital  childs  wrkstat  income  incom16  partyid   \n",
       "\n",
       "       relig  fund  reliten  courts  cappun  \n",
       "24130  relig  fund  reliten  courts  cappun  \n",
       "48261  relig  fund  reliten  courts  cappun  "
      ]
     },
     "execution_count": 4,
     "metadata": {},
     "output_type": "execute_result"
    }
   ],
   "source": [
    "# find duplicate rows\n",
    "dup_mask = df.duplicated(keep=False)\n",
    "dup_rows = df[dup_mask]\n",
    "\n",
    "dup_rows"
   ]
  },
  {
   "cell_type": "code",
   "execution_count": 5,
   "metadata": {
    "tags": []
   },
   "outputs": [],
   "source": [
    "# drop duplicate rows \n",
    "df = df.drop_duplicates(keep=False)\n",
    "\n",
    "# reset indices for future use\n",
    "df = df.reset_index(drop=True)"
   ]
  },
  {
   "cell_type": "code",
   "execution_count": 6,
   "metadata": {
    "colab": {
     "base_uri": "https://localhost:8080/"
    },
    "id": "_SBwQmYCxAFZ",
    "outputId": "7f4c9ad7-1a68-4cdd-b23f-be1f84a76ade",
    "tags": []
   },
   "outputs": [
    {
     "data": {
      "text/plain": [
       "(72390, 15)"
      ]
     },
     "execution_count": 6,
     "metadata": {},
     "output_type": "execute_result"
    }
   ],
   "source": [
    "df.shape"
   ]
  },
  {
   "cell_type": "code",
   "execution_count": 10,
   "metadata": {
    "tags": []
   },
   "outputs": [
    {
     "name": "stdout",
     "output_type": "stream",
     "text": [
      "id: 0\n",
      "age: 769\n",
      "sex: 112\n",
      "educ: 263\n",
      "marital: 51\n",
      "childs: 261\n",
      "wrkstat: 36\n",
      "income: 8951\n",
      "incom16: 13741\n",
      "partyid: 485\n",
      "relig: 437\n",
      "fund: 5333\n",
      "reliten: 11304\n",
      "courts: 16279\n",
      "cappun: 11543\n"
     ]
    }
   ],
   "source": [
    "for each in df.columns:\n",
    "    print(f\"{each}: {df[each].isnull().sum()}\")"
   ]
  },
  {
   "cell_type": "markdown",
   "metadata": {},
   "source": [
    "## Clean CAPPUN Variable "
   ]
  },
  {
   "cell_type": "markdown",
   "metadata": {},
   "source": [
    "Choices made: encode \"nan\" as new category \"no response\""
   ]
  },
  {
   "cell_type": "code",
   "execution_count": 11,
   "metadata": {
    "colab": {
     "base_uri": "https://localhost:8080/"
    },
    "id": "ta-UrXACw4sN",
    "outputId": "6aaacccb-df9d-4869-fd81-29ea46ee389f",
    "tags": []
   },
   "outputs": [
    {
     "data": {
      "text/plain": [
       "cappun\n",
       "favor     42181\n",
       "oppose    18666\n",
       "Name: count, dtype: int64"
      ]
     },
     "execution_count": 11,
     "metadata": {},
     "output_type": "execute_result"
    }
   ],
   "source": [
    "df['cappun'].value_counts()"
   ]
  },
  {
   "cell_type": "code",
   "execution_count": 7,
   "metadata": {
    "tags": []
   },
   "outputs": [],
   "source": [
    "df['cappun'] = df['cappun'].replace(np.nan, 'no response')"
   ]
  },
  {
   "cell_type": "code",
   "execution_count": 8,
   "metadata": {
    "tags": []
   },
   "outputs": [
    {
     "data": {
      "text/plain": [
       "cappun\n",
       "favor          42181\n",
       "oppose         18666\n",
       "no response    11543\n",
       "Name: count, dtype: int64"
      ]
     },
     "execution_count": 8,
     "metadata": {},
     "output_type": "execute_result"
    }
   ],
   "source": [
    "df['cappun'].value_counts()"
   ]
  },
  {
   "cell_type": "markdown",
   "metadata": {},
   "source": [
    "## Clean COURTS variable"
   ]
  },
  {
   "cell_type": "markdown",
   "metadata": {},
   "source": [
    "Choices made: encode \"nan\" as new category \"no response\""
   ]
  },
  {
   "cell_type": "code",
   "execution_count": 14,
   "metadata": {
    "tags": []
   },
   "outputs": [
    {
     "data": {
      "text/plain": [
       "courts\n",
       "not harshly enough    43636\n",
       "about right            7906\n",
       "too harshly            4569\n",
       "Name: count, dtype: int64"
      ]
     },
     "execution_count": 14,
     "metadata": {},
     "output_type": "execute_result"
    }
   ],
   "source": [
    "df['courts'].value_counts()"
   ]
  },
  {
   "cell_type": "code",
   "execution_count": 9,
   "metadata": {
    "tags": []
   },
   "outputs": [],
   "source": [
    "df['courts'] = df['courts'].replace(np.nan, 'no response')"
   ]
  },
  {
   "cell_type": "code",
   "execution_count": 48,
   "metadata": {
    "tags": []
   },
   "outputs": [
    {
     "data": {
      "text/plain": [
       "courts\n",
       "not harshly enough    43636\n",
       "no response           16279\n",
       "about right            7906\n",
       "too harshly            4569\n",
       "Name: count, dtype: int64"
      ]
     },
     "execution_count": 48,
     "metadata": {},
     "output_type": "execute_result"
    }
   ],
   "source": [
    "df['courts'].value_counts()"
   ]
  },
  {
   "cell_type": "markdown",
   "metadata": {},
   "source": [
    "## Clean INCOME variables "
   ]
  },
  {
   "cell_type": "markdown",
   "metadata": {},
   "source": [
    "income = total family income last year before taxes <br>\n",
    "incom16 = family income while growing up "
   ]
  },
  {
   "cell_type": "markdown",
   "metadata": {},
   "source": [
    "Choices made: for incom16, encode \"nan\" as new category \"no response\""
   ]
  },
  {
   "cell_type": "code",
   "execution_count": 17,
   "metadata": {
    "tags": []
   },
   "outputs": [
    {
     "data": {
      "text/plain": [
       "incom16\n",
       "average                 28368\n",
       "below average           14732\n",
       "above average            9069\n",
       "far below average        5334\n",
       "far above average        1136\n",
       "lived in institution       10\n",
       "Name: count, dtype: int64"
      ]
     },
     "execution_count": 17,
     "metadata": {},
     "output_type": "execute_result"
    }
   ],
   "source": [
    "df['incom16'].value_counts()"
   ]
  },
  {
   "cell_type": "code",
   "execution_count": 10,
   "metadata": {
    "tags": []
   },
   "outputs": [],
   "source": [
    "df['incom16'] = df['incom16'].replace(np.nan, 'no response')"
   ]
  },
  {
   "cell_type": "code",
   "execution_count": 50,
   "metadata": {
    "tags": []
   },
   "outputs": [
    {
     "data": {
      "text/plain": [
       "incom16\n",
       "average                 28368\n",
       "below average           14732\n",
       "no response             13741\n",
       "above average            9069\n",
       "far below average        5334\n",
       "far above average        1136\n",
       "lived in institution       10\n",
       "Name: count, dtype: int64"
      ]
     },
     "execution_count": 50,
     "metadata": {},
     "output_type": "execute_result"
    }
   ],
   "source": [
    "df['incom16'].value_counts()"
   ]
  },
  {
   "cell_type": "code",
   "execution_count": 20,
   "metadata": {
    "tags": []
   },
   "outputs": [
    {
     "data": {
      "text/plain": [
       "income\n",
       "$25,000 or more       34785\n",
       "$10,000 to $14,999     6850\n",
       "$20,000 to $24,999     5528\n",
       "$15,000 to $19,999     5301\n",
       "$8,000 to $9,999       2285\n",
       "$1,000 to $2,999       1412\n",
       "$7,000 to $7,999       1315\n",
       "$5,000 to $5,999       1314\n",
       "$3,000 to $3,999       1309\n",
       "$6,000 to $6,999       1249\n",
       "$4,000 to $4,999       1189\n",
       "under $1,000            902\n",
       "Name: count, dtype: int64"
      ]
     },
     "execution_count": 20,
     "metadata": {},
     "output_type": "execute_result"
    }
   ],
   "source": [
    "df['income'].value_counts()"
   ]
  },
  {
   "cell_type": "code",
   "execution_count": 11,
   "metadata": {
    "tags": []
   },
   "outputs": [],
   "source": [
    "df['income'] = df['income'].replace(np.nan, 'no response')"
   ]
  },
  {
   "cell_type": "code",
   "execution_count": 52,
   "metadata": {
    "tags": []
   },
   "outputs": [
    {
     "data": {
      "text/plain": [
       "income\n",
       "$25,000 or more       34785\n",
       "no response            8951\n",
       "$10,000 to $14,999     6850\n",
       "$20,000 to $24,999     5528\n",
       "$15,000 to $19,999     5301\n",
       "$8,000 to $9,999       2285\n",
       "$1,000 to $2,999       1412\n",
       "$7,000 to $7,999       1315\n",
       "$5,000 to $5,999       1314\n",
       "$3,000 to $3,999       1309\n",
       "$6,000 to $6,999       1249\n",
       "$4,000 to $4,999       1189\n",
       "under $1,000            902\n",
       "Name: count, dtype: int64"
      ]
     },
     "execution_count": 52,
     "metadata": {},
     "output_type": "execute_result"
    }
   ],
   "source": [
    "df['income'].value_counts()"
   ]
  },
  {
   "cell_type": "markdown",
   "metadata": {},
   "source": [
    "## Cleaning Religion Variables"
   ]
  },
  {
   "cell_type": "markdown",
   "metadata": {},
   "source": [
    "relig = religious preference <br>\n",
    "fund =  fundamentalism/ liberalism of respondents religion <br>\n",
    "reliten = how strong is their religious preference"
   ]
  },
  {
   "cell_type": "markdown",
   "metadata": {},
   "source": [
    "Choices made:\n",
    "- set relig = other if fund or reliten have specific values \n",
    "- set relig = none if fund or reliten say no religion\n",
    "- set fund = no religion if relig = none \n",
    "- set reliten = no religion if relig = none \n",
    "-  take out the (vol.) from somewhat strong in reliten\n",
    "- convert all other nan to no response "
   ]
  },
  {
   "cell_type": "code",
   "execution_count": 23,
   "metadata": {
    "tags": []
   },
   "outputs": [
    {
     "data": {
      "text/plain": [
       "relig\n",
       "protestant                 40125\n",
       "catholic                   17242\n",
       "none                        9895\n",
       "jewish                      1421\n",
       "other                       1224\n",
       "christian                   1000\n",
       "buddhism                     272\n",
       "muslim/islam                 201\n",
       "orthodox-christian           176\n",
       "inter-nondenominational      159\n",
       "hinduism                     158\n",
       "other eastern religions       44\n",
       "native american               36\n",
       "Name: count, dtype: int64"
      ]
     },
     "execution_count": 23,
     "metadata": {},
     "output_type": "execute_result"
    }
   ],
   "source": [
    "df['relig'].value_counts()"
   ]
  },
  {
   "cell_type": "code",
   "execution_count": 12,
   "metadata": {
    "tags": []
   },
   "outputs": [
    {
     "data": {
      "text/plain": [
       "reliten\n",
       "no religion        12\n",
       "strong              5\n",
       "not very strong     5\n",
       "Name: count, dtype: int64"
      ]
     },
     "execution_count": 12,
     "metadata": {},
     "output_type": "execute_result"
    }
   ],
   "source": [
    "relig_mask = df['relig'].isnull()\n",
    "relig_null = df.loc[relig_mask, ['relig','fund','reliten']]\n",
    "relig_null['fund'].value_counts() # two obs with relig = nan have fund = liberal\n",
    "relig_null['reliten'].value_counts() # some obs with relig = nan have reliten = no religion, strong, or not very strong "
   ]
  },
  {
   "cell_type": "markdown",
   "metadata": {},
   "source": [
    "#### impute some values of relig based on fund or reliten values "
   ]
  },
  {
   "cell_type": "code",
   "execution_count": 13,
   "metadata": {
    "tags": []
   },
   "outputs": [
    {
     "data": {
      "text/html": [
       "<div>\n",
       "<style scoped>\n",
       "    .dataframe tbody tr th:only-of-type {\n",
       "        vertical-align: middle;\n",
       "    }\n",
       "\n",
       "    .dataframe tbody tr th {\n",
       "        vertical-align: top;\n",
       "    }\n",
       "\n",
       "    .dataframe thead th {\n",
       "        text-align: right;\n",
       "    }\n",
       "</style>\n",
       "<table border=\"1\" class=\"dataframe\">\n",
       "  <thead>\n",
       "    <tr style=\"text-align: right;\">\n",
       "      <th></th>\n",
       "      <th>id</th>\n",
       "      <th>age</th>\n",
       "      <th>sex</th>\n",
       "      <th>educ</th>\n",
       "      <th>marital</th>\n",
       "      <th>childs</th>\n",
       "      <th>wrkstat</th>\n",
       "      <th>income</th>\n",
       "      <th>incom16</th>\n",
       "      <th>partyid</th>\n",
       "      <th>relig</th>\n",
       "      <th>fund</th>\n",
       "      <th>reliten</th>\n",
       "      <th>courts</th>\n",
       "      <th>cappun</th>\n",
       "    </tr>\n",
       "  </thead>\n",
       "  <tbody>\n",
       "    <tr>\n",
       "      <th>70309</th>\n",
       "      <td>1464</td>\n",
       "      <td>27.0</td>\n",
       "      <td>female</td>\n",
       "      <td>12.0</td>\n",
       "      <td>never married</td>\n",
       "      <td>2.0</td>\n",
       "      <td>working part time</td>\n",
       "      <td>$15,000 to $19,999</td>\n",
       "      <td>below average</td>\n",
       "      <td>not very strong democrat</td>\n",
       "      <td>other</td>\n",
       "      <td>liberal</td>\n",
       "      <td>NaN</td>\n",
       "      <td>about right</td>\n",
       "      <td>no response</td>\n",
       "    </tr>\n",
       "    <tr>\n",
       "      <th>70614</th>\n",
       "      <td>1769</td>\n",
       "      <td>43.0</td>\n",
       "      <td>male</td>\n",
       "      <td>12.0</td>\n",
       "      <td>never married</td>\n",
       "      <td>5.0</td>\n",
       "      <td>working full time</td>\n",
       "      <td>$25,000 or more</td>\n",
       "      <td>below average</td>\n",
       "      <td>other party</td>\n",
       "      <td>other</td>\n",
       "      <td>liberal</td>\n",
       "      <td>NaN</td>\n",
       "      <td>too harshly</td>\n",
       "      <td>favor</td>\n",
       "    </tr>\n",
       "  </tbody>\n",
       "</table>\n",
       "</div>"
      ],
      "text/plain": [
       "         id   age     sex  educ        marital childs            wrkstat  \\\n",
       "70309  1464  27.0  female  12.0  never married    2.0  working part time   \n",
       "70614  1769  43.0    male  12.0  never married    5.0  working full time   \n",
       "\n",
       "                   income        incom16                   partyid  relig  \\\n",
       "70309  $15,000 to $19,999  below average  not very strong democrat  other   \n",
       "70614     $25,000 or more  below average               other party  other   \n",
       "\n",
       "          fund reliten       courts       cappun  \n",
       "70309  liberal     NaN  about right  no response  \n",
       "70614  liberal     NaN  too harshly        favor  "
      ]
     },
     "execution_count": 13,
     "metadata": {},
     "output_type": "execute_result"
    }
   ],
   "source": [
    "# set relig = other if fund = liberal\n",
    "relig_null.loc[df['fund']=='liberal',:] # see they currently have relig = NaN \n",
    "mask = (df['relig'].isnull()) & (df['fund']=='liberal') # conditions for row selection\n",
    "df.loc[mask,'relig'] = 'other' # set relig value to other \n",
    "df.iloc[[70309,70614],:] # check work based on index values"
   ]
  },
  {
   "cell_type": "code",
   "execution_count": 14,
   "metadata": {
    "tags": []
   },
   "outputs": [
    {
     "data": {
      "text/plain": [
       "relig\n",
       "protestant                 40125\n",
       "catholic                   17242\n",
       "none                        9907\n",
       "jewish                      1421\n",
       "other                       1226\n",
       "christian                   1000\n",
       "buddhism                     272\n",
       "muslim/islam                 201\n",
       "orthodox-christian           176\n",
       "inter-nondenominational      159\n",
       "hinduism                     158\n",
       "other eastern religions       44\n",
       "native american               36\n",
       "Name: count, dtype: int64"
      ]
     },
     "execution_count": 14,
     "metadata": {},
     "output_type": "execute_result"
    }
   ],
   "source": [
    "# set relig = none if reliten = no religion\n",
    "relig_null.loc[df['reliten']=='no religion',:] # see they currently have relig = NaN \n",
    "mask = (df['relig'].isnull()) & (df['reliten']=='no religion') # conditions for row selection\n",
    "df.loc[mask,'relig'] = 'none' # set relig value to other \n",
    "df['relig'].value_counts() # check work based on increased 'none' value counts"
   ]
  },
  {
   "cell_type": "code",
   "execution_count": 15,
   "metadata": {
    "tags": []
   },
   "outputs": [
    {
     "data": {
      "text/plain": [
       "relig\n",
       "protestant                 40125\n",
       "catholic                   17242\n",
       "none                        9907\n",
       "jewish                      1421\n",
       "other                       1236\n",
       "christian                   1000\n",
       "buddhism                     272\n",
       "muslim/islam                 201\n",
       "orthodox-christian           176\n",
       "inter-nondenominational      159\n",
       "hinduism                     158\n",
       "other eastern religions       44\n",
       "native american               36\n",
       "Name: count, dtype: int64"
      ]
     },
     "execution_count": 15,
     "metadata": {},
     "output_type": "execute_result"
    }
   ],
   "source": [
    "# set relig = other if reliten = strong or not very strong \n",
    "relig_null.loc[(df['reliten']=='strong') | (df['reliten']=='not very strong'),:] # see they currently have relig = NaN \n",
    "mask = (df['relig'].isnull()) & ((df['reliten']=='strong') | (df['reliten']=='not very strong')) # conditions for row selection\n",
    "df.loc[mask,'relig'] = 'other' # set relig value to other \n",
    "df['relig'].value_counts() # check work based on increased 'other' value counts"
   ]
  },
  {
   "cell_type": "code",
   "execution_count": 28,
   "metadata": {
    "tags": []
   },
   "outputs": [],
   "source": [
    "# set all other nan relig values to 'no response'\n",
    "df['relig'] = df['relig'].replace(np.nan, 'no response')"
   ]
  },
  {
   "cell_type": "markdown",
   "metadata": {},
   "source": [
    "### impute some values of fund based on relig "
   ]
  },
  {
   "cell_type": "code",
   "execution_count": 141,
   "metadata": {
    "tags": []
   },
   "outputs": [
    {
     "data": {
      "text/plain": [
       "fund\n",
       "moderate          28283\n",
       "fundamentalist    19798\n",
       "no religion        9907\n",
       "liberal            9705\n",
       "no response        4697\n",
       "Name: count, dtype: int64"
      ]
     },
     "execution_count": 141,
     "metadata": {},
     "output_type": "execute_result"
    }
   ],
   "source": [
    "df['fund'].value_counts()"
   ]
  },
  {
   "cell_type": "code",
   "execution_count": 16,
   "metadata": {
    "tags": []
   },
   "outputs": [],
   "source": [
    "# set fund = no religion if relig = none \n",
    "df.loc[(df['relig']=='none'),'fund'] = 'no religion'"
   ]
  },
  {
   "cell_type": "code",
   "execution_count": 17,
   "metadata": {
    "tags": []
   },
   "outputs": [],
   "source": [
    "# set all other nan fund values to 'no response'\n",
    "df['fund'] = df['fund'].replace(np.nan, 'no response')"
   ]
  },
  {
   "cell_type": "markdown",
   "metadata": {},
   "source": [
    "### reliten"
   ]
  },
  {
   "cell_type": "code",
   "execution_count": 26,
   "metadata": {
    "tags": []
   },
   "outputs": [
    {
     "data": {
      "text/plain": [
       "reliten\n",
       "not very strong    24297\n",
       "strong             23252\n",
       "no religion         9907\n",
       "no response         9027\n",
       "somewhat strong     5907\n",
       "Name: count, dtype: int64"
      ]
     },
     "execution_count": 26,
     "metadata": {},
     "output_type": "execute_result"
    }
   ],
   "source": [
    "df['reliten'].value_counts()"
   ]
  },
  {
   "cell_type": "code",
   "execution_count": 19,
   "metadata": {
    "tags": []
   },
   "outputs": [],
   "source": [
    "# set reliten = no religion if relig = none \n",
    "df.loc[(df['relig']=='none'),'reliten'] = 'no religion'"
   ]
  },
  {
   "cell_type": "code",
   "execution_count": 21,
   "metadata": {
    "tags": []
   },
   "outputs": [],
   "source": [
    "# take out the (vol.) from somewhat strong\n",
    "df['reliten'] = df['reliten'].replace('somewhat strong (vol.)', 'somewhat strong')"
   ]
  },
  {
   "cell_type": "code",
   "execution_count": 24,
   "metadata": {
    "tags": []
   },
   "outputs": [],
   "source": [
    "# set all other nan reliten values to 'no response'\n",
    "df['reliten'] = df['reliten'].replace(np.nan, 'no response')"
   ]
  },
  {
   "cell_type": "markdown",
   "metadata": {},
   "source": [
    "## Clean political party variable"
   ]
  },
  {
   "cell_type": "markdown",
   "metadata": {},
   "source": [
    "Choices made: since 'no reponse' is already lumped into the 'independent (neither, no response)' category and we cannot separate the no responses from the independents, I am coding all the nan values to be 'independent (neither, no response)' so I don't create a separate extra 'no response' category. I also reformatted the text to say 'independent, neither, or no response' to make it clearer, though this variable could have been recorded better to begin with."
   ]
  },
  {
   "cell_type": "code",
   "execution_count": 33,
   "metadata": {
    "tags": []
   },
   "outputs": [
    {
     "data": {
      "text/plain": [
       "partyid\n",
       "not very strong democrat                14286\n",
       "independent, neither, or no response    12025\n",
       "strong democrat                         11795\n",
       "not very strong republican              10678\n",
       "independent, close to democrat           8663\n",
       "strong republican                        7273\n",
       "independent, close to republican         6378\n",
       "other party                              1292\n",
       "Name: count, dtype: int64"
      ]
     },
     "execution_count": 33,
     "metadata": {},
     "output_type": "execute_result"
    }
   ],
   "source": [
    "df['partyid'].value_counts()"
   ]
  },
  {
   "cell_type": "code",
   "execution_count": 32,
   "metadata": {
    "tags": []
   },
   "outputs": [],
   "source": [
    "# set all nan values to 'independent (neither, no response)'\n",
    "df['partyid'] = df['partyid'].replace(np.nan, 'independent (neither, no response)')\n",
    "\n",
    "# reformat\n",
    "df['partyid'] = df['partyid'].replace('independent (neither, no response)', 'independent, neither, or no response')"
   ]
  },
  {
   "cell_type": "markdown",
   "metadata": {},
   "source": [
    "## Clean WRKSTAT variable (occupation)"
   ]
  },
  {
   "cell_type": "markdown",
   "metadata": {},
   "source": [
    "Choices made: since there are only 36 nan values, I lumped them in with 'other' instead of creating a separate 'no response' category "
   ]
  },
  {
   "cell_type": "code",
   "execution_count": 38,
   "metadata": {
    "tags": []
   },
   "outputs": [
    {
     "data": {
      "text/plain": [
       "wrkstat\n",
       "working full time                                                             35267\n",
       "retired                                                                       10886\n",
       "keeping house                                                                 10764\n",
       "working part time                                                              7430\n",
       "unemployed, laid off, looking for work                                         2621\n",
       "in school                                                                      2187\n",
       "other                                                                          1679\n",
       "with a job, but not at work because of temporary illness, vacation, strike     1556\n",
       "Name: count, dtype: int64"
      ]
     },
     "execution_count": 38,
     "metadata": {},
     "output_type": "execute_result"
    }
   ],
   "source": [
    "df['wrkstat'].value_counts()"
   ]
  },
  {
   "cell_type": "code",
   "execution_count": 37,
   "metadata": {
    "tags": []
   },
   "outputs": [],
   "source": [
    "# set all nan values to 'other'\n",
    "df['wrkstat'] = df['wrkstat'].replace(np.nan, 'other')"
   ]
  },
  {
   "cell_type": "markdown",
   "metadata": {},
   "source": [
    "## Clean CHILDS variable (number of children)"
   ]
  },
  {
   "cell_type": "markdown",
   "metadata": {},
   "source": [
    "Choices made: coerce to numeric, leave nan rows as they are. This is so we don't lose other data if this variable is not heavily used in the analysis, but the nan values can be easily filtered out if it is (use df.loc[df['childs'].notnull(),:])"
   ]
  },
  {
   "cell_type": "code",
   "execution_count": 43,
   "metadata": {
    "tags": []
   },
   "outputs": [],
   "source": [
    "df['childs'] = pd.to_numeric(df['childs'], errors='coerce')"
   ]
  },
  {
   "cell_type": "markdown",
   "metadata": {},
   "source": [
    "## Clean MARITAL variable"
   ]
  },
  {
   "cell_type": "markdown",
   "metadata": {},
   "source": [
    "Choices made: convert all nan values (there are only 51) to 'no response'"
   ]
  },
  {
   "cell_type": "code",
   "execution_count": 50,
   "metadata": {
    "tags": []
   },
   "outputs": [
    {
     "data": {
      "text/plain": [
       "marital\n",
       "married          37590\n",
       "never married    15910\n",
       "divorced          9642\n",
       "widowed           6756\n",
       "separated         2441\n",
       "no response         51\n",
       "Name: count, dtype: int64"
      ]
     },
     "execution_count": 50,
     "metadata": {},
     "output_type": "execute_result"
    }
   ],
   "source": [
    "df['marital'].value_counts()"
   ]
  },
  {
   "cell_type": "code",
   "execution_count": 49,
   "metadata": {
    "tags": []
   },
   "outputs": [],
   "source": [
    "# set all nan values to 'no response'\n",
    "df['marital'] = df['marital'].replace(np.nan, 'no response')"
   ]
  },
  {
   "cell_type": "markdown",
   "metadata": {},
   "source": [
    "## Clean EDUC variable"
   ]
  },
  {
   "cell_type": "markdown",
   "metadata": {},
   "source": [
    "Choices made: coerce to numeric, then create new column 'educ_level' converting numeric values to education level categories based on the mapping from the codebook, encoding nan values as 'no reponse' and leaving original educ variable in the dataframe for reference. "
   ]
  },
  {
   "cell_type": "code",
   "execution_count": 66,
   "metadata": {
    "tags": []
   },
   "outputs": [],
   "source": [
    "# convert educ to numeric\n",
    "df['educ'] = pd.to_numeric(df['educ'], errors='coerce')"
   ]
  },
  {
   "cell_type": "code",
   "execution_count": 67,
   "metadata": {
    "tags": []
   },
   "outputs": [
    {
     "data": {
      "text/html": [
       "<div>\n",
       "<style scoped>\n",
       "    .dataframe tbody tr th:only-of-type {\n",
       "        vertical-align: middle;\n",
       "    }\n",
       "\n",
       "    .dataframe tbody tr th {\n",
       "        vertical-align: top;\n",
       "    }\n",
       "\n",
       "    .dataframe thead th {\n",
       "        text-align: right;\n",
       "    }\n",
       "</style>\n",
       "<table border=\"1\" class=\"dataframe\">\n",
       "  <thead>\n",
       "    <tr style=\"text-align: right;\">\n",
       "      <th></th>\n",
       "      <th>educ</th>\n",
       "      <th>educ_level</th>\n",
       "    </tr>\n",
       "  </thead>\n",
       "  <tbody>\n",
       "    <tr>\n",
       "      <th>0</th>\n",
       "      <td>16.0</td>\n",
       "      <td>4 years of college</td>\n",
       "    </tr>\n",
       "    <tr>\n",
       "      <th>1</th>\n",
       "      <td>10.0</td>\n",
       "      <td>10th grade</td>\n",
       "    </tr>\n",
       "    <tr>\n",
       "      <th>2</th>\n",
       "      <td>12.0</td>\n",
       "      <td>12th grade</td>\n",
       "    </tr>\n",
       "    <tr>\n",
       "      <th>3</th>\n",
       "      <td>17.0</td>\n",
       "      <td>5 years of college</td>\n",
       "    </tr>\n",
       "    <tr>\n",
       "      <th>4</th>\n",
       "      <td>12.0</td>\n",
       "      <td>12th grade</td>\n",
       "    </tr>\n",
       "  </tbody>\n",
       "</table>\n",
       "</div>"
      ],
      "text/plain": [
       "   educ          educ_level\n",
       "0  16.0  4 years of college\n",
       "1  10.0          10th grade\n",
       "2  12.0          12th grade\n",
       "3  17.0  5 years of college\n",
       "4  12.0          12th grade"
      ]
     },
     "execution_count": 67,
     "metadata": {},
     "output_type": "execute_result"
    }
   ],
   "source": [
    "mapping = {0: 'no formal schooling',\n",
    "           1: '1st grade',\n",
    "           2: '2nd grade',\n",
    "           3: '3rd grade',\n",
    "           4: '4th grade',\n",
    "           5: '5th grade',\n",
    "           6: '6th grade',\n",
    "           7: '7th grade',\n",
    "           8: '8th grade',\n",
    "           9: '9th grade',\n",
    "           10: '10th grade',\n",
    "           11: '11th grade',\n",
    "           12: '12th grade',\n",
    "           13: '1 year of college',\n",
    "           14: '2 years of college',\n",
    "           15: '3 years of college',\n",
    "           16: '4 years of college',\n",
    "           17: '5 years of college',\n",
    "           18: '6 years of college',\n",
    "           19: '7 years of college',\n",
    "           20: '8 years of college',\n",
    "          np.nan: 'no response'}\n",
    "df['educ_level'] = df['educ'].replace(mapping) # create new column with mapping\n",
    "\n",
    "df.loc[:,['educ','educ_level']].head() # check work"
   ]
  },
  {
   "cell_type": "markdown",
   "metadata": {},
   "source": [
    "## Clean SEX variable"
   ]
  },
  {
   "cell_type": "markdown",
   "metadata": {},
   "source": [
    "Choices made: convert all nan values (there are only 112) to 'no response'"
   ]
  },
  {
   "cell_type": "code",
   "execution_count": 58,
   "metadata": {
    "tags": []
   },
   "outputs": [
    {
     "data": {
      "text/plain": [
       "sex\n",
       "female         40301\n",
       "male           31977\n",
       "no response      112\n",
       "Name: count, dtype: int64"
      ]
     },
     "execution_count": 58,
     "metadata": {},
     "output_type": "execute_result"
    }
   ],
   "source": [
    "df['sex'].value_counts()"
   ]
  },
  {
   "cell_type": "code",
   "execution_count": 57,
   "metadata": {
    "tags": []
   },
   "outputs": [],
   "source": [
    "# set all nan values to 'no response'\n",
    "df['sex'] = df['sex'].replace(np.nan, 'no response')"
   ]
  },
  {
   "cell_type": "markdown",
   "metadata": {},
   "source": [
    "## Clean AGE variable"
   ]
  },
  {
   "cell_type": "markdown",
   "metadata": {},
   "source": [
    "Choices made: coerce to numeric, leave nan rows as they are. Similar to CHILDS, this is so we don't lose other data if this variable is not heavily used in the analysis, but the nan values can be easily filtered out if it is (use df.loc[df['age'].notnull(),:])"
   ]
  },
  {
   "cell_type": "code",
   "execution_count": 59,
   "metadata": {
    "tags": []
   },
   "outputs": [],
   "source": [
    "df['age'] = pd.to_numeric(df['age'], errors='coerce')"
   ]
  },
  {
   "cell_type": "markdown",
   "metadata": {},
   "source": [
    "## Final Product!"
   ]
  },
  {
   "cell_type": "code",
   "execution_count": 68,
   "metadata": {
    "tags": []
   },
   "outputs": [],
   "source": [
    "# put educ level variable next to educ for easy understanding \n",
    "col_order = ['id', 'age', 'sex', 'educ', 'educ_level', 'marital', 'childs', 'wrkstat', 'income',\n",
    "       'incom16', 'partyid', 'relig', 'fund', 'reliten', 'courts', 'cappun'\n",
    "       ]\n",
    "\n",
    "df = df.loc[:,col_order]"
   ]
  },
  {
   "cell_type": "code",
   "execution_count": 69,
   "metadata": {
    "tags": []
   },
   "outputs": [
    {
     "data": {
      "text/html": [
       "<div>\n",
       "<style scoped>\n",
       "    .dataframe tbody tr th:only-of-type {\n",
       "        vertical-align: middle;\n",
       "    }\n",
       "\n",
       "    .dataframe tbody tr th {\n",
       "        vertical-align: top;\n",
       "    }\n",
       "\n",
       "    .dataframe thead th {\n",
       "        text-align: right;\n",
       "    }\n",
       "</style>\n",
       "<table border=\"1\" class=\"dataframe\">\n",
       "  <thead>\n",
       "    <tr style=\"text-align: right;\">\n",
       "      <th></th>\n",
       "      <th>id</th>\n",
       "      <th>age</th>\n",
       "      <th>sex</th>\n",
       "      <th>educ</th>\n",
       "      <th>educ_level</th>\n",
       "      <th>marital</th>\n",
       "      <th>childs</th>\n",
       "      <th>wrkstat</th>\n",
       "      <th>income</th>\n",
       "      <th>incom16</th>\n",
       "      <th>partyid</th>\n",
       "      <th>relig</th>\n",
       "      <th>fund</th>\n",
       "      <th>reliten</th>\n",
       "      <th>courts</th>\n",
       "      <th>cappun</th>\n",
       "    </tr>\n",
       "  </thead>\n",
       "  <tbody>\n",
       "    <tr>\n",
       "      <th>0</th>\n",
       "      <td>1</td>\n",
       "      <td>23.0</td>\n",
       "      <td>female</td>\n",
       "      <td>16.0</td>\n",
       "      <td>4 years of college</td>\n",
       "      <td>never married</td>\n",
       "      <td>0.0</td>\n",
       "      <td>working full time</td>\n",
       "      <td>no response</td>\n",
       "      <td>average</td>\n",
       "      <td>independent, close to democrat</td>\n",
       "      <td>jewish</td>\n",
       "      <td>liberal</td>\n",
       "      <td>no response</td>\n",
       "      <td>about right</td>\n",
       "      <td>no response</td>\n",
       "    </tr>\n",
       "    <tr>\n",
       "      <th>1</th>\n",
       "      <td>2</td>\n",
       "      <td>70.0</td>\n",
       "      <td>male</td>\n",
       "      <td>10.0</td>\n",
       "      <td>10th grade</td>\n",
       "      <td>married</td>\n",
       "      <td>5.0</td>\n",
       "      <td>retired</td>\n",
       "      <td>no response</td>\n",
       "      <td>above average</td>\n",
       "      <td>not very strong democrat</td>\n",
       "      <td>catholic</td>\n",
       "      <td>moderate</td>\n",
       "      <td>no response</td>\n",
       "      <td>not harshly enough</td>\n",
       "      <td>no response</td>\n",
       "    </tr>\n",
       "    <tr>\n",
       "      <th>2</th>\n",
       "      <td>3</td>\n",
       "      <td>48.0</td>\n",
       "      <td>female</td>\n",
       "      <td>12.0</td>\n",
       "      <td>12th grade</td>\n",
       "      <td>married</td>\n",
       "      <td>4.0</td>\n",
       "      <td>working part time</td>\n",
       "      <td>no response</td>\n",
       "      <td>average</td>\n",
       "      <td>independent, neither, or no response</td>\n",
       "      <td>protestant</td>\n",
       "      <td>moderate</td>\n",
       "      <td>no response</td>\n",
       "      <td>not harshly enough</td>\n",
       "      <td>no response</td>\n",
       "    </tr>\n",
       "    <tr>\n",
       "      <th>3</th>\n",
       "      <td>4</td>\n",
       "      <td>27.0</td>\n",
       "      <td>female</td>\n",
       "      <td>17.0</td>\n",
       "      <td>5 years of college</td>\n",
       "      <td>married</td>\n",
       "      <td>0.0</td>\n",
       "      <td>working full time</td>\n",
       "      <td>no response</td>\n",
       "      <td>average</td>\n",
       "      <td>not very strong democrat</td>\n",
       "      <td>other</td>\n",
       "      <td>no response</td>\n",
       "      <td>no response</td>\n",
       "      <td>about right</td>\n",
       "      <td>no response</td>\n",
       "    </tr>\n",
       "    <tr>\n",
       "      <th>4</th>\n",
       "      <td>5</td>\n",
       "      <td>61.0</td>\n",
       "      <td>female</td>\n",
       "      <td>12.0</td>\n",
       "      <td>12th grade</td>\n",
       "      <td>married</td>\n",
       "      <td>2.0</td>\n",
       "      <td>keeping house</td>\n",
       "      <td>no response</td>\n",
       "      <td>below average</td>\n",
       "      <td>strong democrat</td>\n",
       "      <td>protestant</td>\n",
       "      <td>moderate</td>\n",
       "      <td>no response</td>\n",
       "      <td>not harshly enough</td>\n",
       "      <td>no response</td>\n",
       "    </tr>\n",
       "  </tbody>\n",
       "</table>\n",
       "</div>"
      ],
      "text/plain": [
       "  id   age     sex  educ          educ_level        marital  childs  \\\n",
       "0  1  23.0  female  16.0  4 years of college  never married     0.0   \n",
       "1  2  70.0    male  10.0          10th grade        married     5.0   \n",
       "2  3  48.0  female  12.0          12th grade        married     4.0   \n",
       "3  4  27.0  female  17.0  5 years of college        married     0.0   \n",
       "4  5  61.0  female  12.0          12th grade        married     2.0   \n",
       "\n",
       "             wrkstat       income        incom16  \\\n",
       "0  working full time  no response        average   \n",
       "1            retired  no response  above average   \n",
       "2  working part time  no response        average   \n",
       "3  working full time  no response        average   \n",
       "4      keeping house  no response  below average   \n",
       "\n",
       "                                partyid       relig         fund      reliten  \\\n",
       "0        independent, close to democrat      jewish      liberal  no response   \n",
       "1              not very strong democrat    catholic     moderate  no response   \n",
       "2  independent, neither, or no response  protestant     moderate  no response   \n",
       "3              not very strong democrat       other  no response  no response   \n",
       "4                       strong democrat  protestant     moderate  no response   \n",
       "\n",
       "               courts       cappun  \n",
       "0         about right  no response  \n",
       "1  not harshly enough  no response  \n",
       "2  not harshly enough  no response  \n",
       "3         about right  no response  \n",
       "4  not harshly enough  no response  "
      ]
     },
     "execution_count": 69,
     "metadata": {},
     "output_type": "execute_result"
    }
   ],
   "source": [
    "df.head()"
   ]
  },
  {
   "cell_type": "code",
   "execution_count": 70,
   "metadata": {
    "tags": []
   },
   "outputs": [
    {
     "name": "stdout",
     "output_type": "stream",
     "text": [
      "id: 0\n",
      "age: 769\n",
      "sex: 0\n",
      "educ: 263\n",
      "educ_level: 0\n",
      "marital: 0\n",
      "childs: 261\n",
      "wrkstat: 0\n",
      "income: 0\n",
      "incom16: 0\n",
      "partyid: 0\n",
      "relig: 0\n",
      "fund: 0\n",
      "reliten: 0\n",
      "courts: 0\n",
      "cappun: 0\n"
     ]
    }
   ],
   "source": [
    "for each in df.columns:\n",
    "    print(f\"{each}: {df[each].isnull().sum()}\")"
   ]
  },
  {
   "cell_type": "code",
   "execution_count": 71,
   "metadata": {
    "tags": []
   },
   "outputs": [
    {
     "data": {
      "text/plain": [
       "id             object\n",
       "age           float64\n",
       "sex            object\n",
       "educ          float64\n",
       "educ_level     object\n",
       "marital        object\n",
       "childs        float64\n",
       "wrkstat        object\n",
       "income         object\n",
       "incom16        object\n",
       "partyid        object\n",
       "relig          object\n",
       "fund           object\n",
       "reliten        object\n",
       "courts         object\n",
       "cappun         object\n",
       "dtype: object"
      ]
     },
     "execution_count": 71,
     "metadata": {},
     "output_type": "execute_result"
    }
   ],
   "source": [
    "df.dtypes"
   ]
  },
  {
   "cell_type": "code",
   "execution_count": 73,
   "metadata": {
    "tags": []
   },
   "outputs": [],
   "source": [
    " df.to_csv('clean_gss_data.csv', index=False) "
   ]
  }
 ],
 "metadata": {
  "colab": {
   "authorship_tag": "ABX9TyP2VvotT4iXaecY/i208eNH",
   "provenance": []
  },
  "kernelspec": {
   "display_name": "Python 3 (ipykernel)",
   "language": "python",
   "name": "python3"
  },
  "language_info": {
   "codemirror_mode": {
    "name": "ipython",
    "version": 3
   },
   "file_extension": ".py",
   "mimetype": "text/x-python",
   "name": "python",
   "nbconvert_exporter": "python",
   "pygments_lexer": "ipython3",
   "version": "3.11.4"
  }
 },
 "nbformat": 4,
 "nbformat_minor": 4
}
